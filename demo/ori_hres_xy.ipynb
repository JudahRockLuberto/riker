{
 "cells": [
  {
   "cell_type": "code",
   "execution_count": 3,
   "metadata": {},
   "outputs": [
    {
     "name": "stdout",
     "output_type": "stream",
     "text": [
      "The autoreload extension is already loaded. To reload it, use:\n",
      "  %reload_ext autoreload\n"
     ]
    }
   ],
   "source": [
    "%load_ext autoreload\n",
    "%reload_ext autoreload\n",
    "%autoreload 2\n",
    "%matplotlib inline\n",
    "\n",
    "import os\n",
    "import warnings\n",
    "\n",
    "from tqdm import tnrange, tqdm_notebook\n",
    "import multiprocessing as mp\n",
    "\n",
    "import matplotlib.pyplot as plt\n",
    "from matplotlib import rcParams\n",
    "\n",
    "from astropy.utils.console import ProgressBar\n",
    "\n",
    "from riker.galaxy import GalaxyMap\n",
    "from riker.data import BeneMassAgeZMaps\n",
    "\n",
    "\n",
    "warnings.filterwarnings(\"ignore\")\n",
    "\n",
    "plt.rc('text', usetex=True)\n",
    "rcParams.update({'axes.linewidth': 1.5})\n",
    "rcParams.update({'xtick.direction': 'in'})\n",
    "rcParams.update({'ytick.direction': 'in'})\n",
    "rcParams.update({'xtick.minor.visible': 'True'})\n",
    "rcParams.update({'ytick.minor.visible': 'True'})\n",
    "rcParams.update({'xtick.major.pad': '7.0'})\n",
    "rcParams.update({'xtick.major.size': '8.0'})\n",
    "rcParams.update({'xtick.major.width': '1.5'})\n",
    "rcParams.update({'xtick.minor.pad': '7.0'})\n",
    "rcParams.update({'xtick.minor.size': '4.0'})\n",
    "rcParams.update({'xtick.minor.width': '1.5'})\n",
    "rcParams.update({'ytick.major.pad': '7.0'})\n",
    "rcParams.update({'ytick.major.size': '8.0'})\n",
    "rcParams.update({'ytick.major.width': '1.5'})\n",
    "rcParams.update({'ytick.minor.pad': '7.0'})\n",
    "rcParams.update({'ytick.minor.size': '4.0'})\n",
    "rcParams.update({'ytick.minor.width': '1.5'})\n",
    "rcParams.update({'axes.titlepad': '10.0'})\n",
    "rcParams.update({'font.size': 25})"
   ]
  },
  {
   "cell_type": "markdown",
   "metadata": {},
   "source": [
    "## Prepare the Illustris 100 z=0.4 high-resolution HDF5 data"
   ]
  },
  {
   "cell_type": "code",
   "execution_count": 4,
   "metadata": {},
   "outputs": [],
   "source": [
    "# Input HDF5 from simulation\n",
    "ori_dir = '/Users/song/data/massive/simulation/riker/ori/'\n",
    "\n",
    "# HDF5 files\n",
    "ori_file = os.path.join(ori_dir, 'galaxies_orig_108_agez_highres.hdf5')\n",
    "\n",
    "ori_label = 'ori100_z0.4_hres'\n",
    "\n",
    "ori_data = BeneMassAgeZMaps(ori_file, label=ori_label)"
   ]
  },
  {
   "cell_type": "code",
   "execution_count": 6,
   "metadata": {},
   "outputs": [
    {
     "name": "stdout",
     "output_type": "stream",
     "text": [
      "449\n"
     ]
    }
   ],
   "source": [
    "print(ori_data.n_gal)"
   ]
  },
  {
   "cell_type": "markdown",
   "metadata": {},
   "source": [
    "### Batch reduction of all galaxies in `xy` projection"
   ]
  },
  {
   "cell_type": "code",
   "execution_count": 9,
   "metadata": {},
   "outputs": [],
   "source": [
    "def reduce(idx, hdf5, proj='xy'):\n",
    "    \"\"\"Reduce a single galaxy.\"\"\"\n",
    "    gal = GalaxyMap(hdf5, idx, proj=proj, aper_force=None)\n",
    "    summary = gal.run_all(plot=True, output=True)\n",
    "    \n",
    "    return summary"
   ]
  },
  {
   "cell_type": "code",
   "execution_count": null,
   "metadata": {},
   "outputs": [
    {
     "data": {
      "application/vnd.jupyter.widget-view+json": {
       "model_id": "0d33b74c47b9494ab9a29fec7084dbaa",
       "version_major": 2,
       "version_minor": 0
      },
      "text/plain": [
       "HBox(children=(IntProgress(value=0, max=449), HTML(value='')))"
      ]
     },
     "metadata": {},
     "output_type": "display_data"
    }
   ],
   "source": [
    "xy_sum = []\n",
    "\n",
    "for idx in tqdm_notebook(range(ori_data.n_gal)):\n",
    "    xy_sum.append(reduce(idx, ori_data))"
   ]
  },
  {
   "cell_type": "code",
   "execution_count": null,
   "metadata": {},
   "outputs": [],
   "source": []
  }
 ],
 "metadata": {
  "kernelspec": {
   "display_name": "Python 3",
   "language": "python",
   "name": "python3"
  },
  "language_info": {
   "codemirror_mode": {
    "name": "ipython",
    "version": 3
   },
   "file_extension": ".py",
   "mimetype": "text/x-python",
   "name": "python",
   "nbconvert_exporter": "python",
   "pygments_lexer": "ipython3",
   "version": "3.7.4"
  }
 },
 "nbformat": 4,
 "nbformat_minor": 2
}
