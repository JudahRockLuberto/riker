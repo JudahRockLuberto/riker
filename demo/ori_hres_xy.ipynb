{
 "cells": [
  {
   "cell_type": "code",
   "execution_count": 1,
   "metadata": {},
   "outputs": [
    {
     "name": "stderr",
     "output_type": "stream",
     "text": [
      "WARNING: AstropyDeprecationWarning: Composition of model classes will be removed in 4.0 (but composition of model instances is not affected) [astropy.modeling.core]\n",
      "Unable to open CL script cache /Users/song/.iraf/pyraf/clcache\n",
      "Unable to open CL script cache /Users/song/.iraf/pyraf/clcache.v2\n",
      "Warning: unable to open any CL script cache, performance may be slow\n"
     ]
    }
   ],
   "source": [
    "%load_ext autoreload\n",
    "%reload_ext autoreload\n",
    "%autoreload 2\n",
    "%matplotlib inline\n",
    "\n",
    "import os\n",
    "import warnings\n",
    "\n",
    "import numpy as np\n",
    "\n",
    "from tqdm import tnrange, tqdm_notebook\n",
    "import multiprocessing as mp\n",
    "\n",
    "import matplotlib.pyplot as plt\n",
    "from matplotlib import rcParams\n",
    "\n",
    "from astropy.table import Table\n",
    "\n",
    "from riker.galaxy import GalaxyMap\n",
    "from riker.data import BeneMassAgeZMaps\n",
    "\n",
    "\n",
    "warnings.filterwarnings(\"ignore\")\n",
    "\n",
    "plt.rc('text', usetex=True)\n",
    "rcParams.update({'axes.linewidth': 1.5})\n",
    "rcParams.update({'xtick.direction': 'in'})\n",
    "rcParams.update({'ytick.direction': 'in'})\n",
    "rcParams.update({'xtick.minor.visible': 'True'})\n",
    "rcParams.update({'ytick.minor.visible': 'True'})\n",
    "rcParams.update({'xtick.major.pad': '7.0'})\n",
    "rcParams.update({'xtick.major.size': '8.0'})\n",
    "rcParams.update({'xtick.major.width': '1.5'})\n",
    "rcParams.update({'xtick.minor.pad': '7.0'})\n",
    "rcParams.update({'xtick.minor.size': '4.0'})\n",
    "rcParams.update({'xtick.minor.width': '1.5'})\n",
    "rcParams.update({'ytick.major.pad': '7.0'})\n",
    "rcParams.update({'ytick.major.size': '8.0'})\n",
    "rcParams.update({'ytick.major.width': '1.5'})\n",
    "rcParams.update({'ytick.minor.pad': '7.0'})\n",
    "rcParams.update({'ytick.minor.size': '4.0'})\n",
    "rcParams.update({'ytick.minor.width': '1.5'})\n",
    "rcParams.update({'axes.titlepad': '10.0'})\n",
    "rcParams.update({'font.size': 25})"
   ]
  },
  {
   "cell_type": "markdown",
   "metadata": {},
   "source": [
    "## Prepare the Illustris 100 z=0.4 high-resolution HDF5 data"
   ]
  },
  {
   "cell_type": "code",
   "execution_count": 2,
   "metadata": {},
   "outputs": [],
   "source": [
    "# Input HDF5 from simulation\n",
    "ori_dir = '/Users/song/data/massive/simulation/riker/ori/'\n",
    "\n",
    "# HDF5 files\n",
    "ori_file = os.path.join(ori_dir, 'galaxies_orig_108_agez_highres.hdf5')\n",
    "\n",
    "ori_label = 'ori100_z0.4_hres'\n",
    "\n",
    "ori_data = BeneMassAgeZMaps(ori_file, label=ori_label)"
   ]
  },
  {
   "cell_type": "code",
   "execution_count": 29,
   "metadata": {},
   "outputs": [
    {
     "name": "stdout",
     "output_type": "stream",
     "text": [
      "449\n"
     ]
    }
   ],
   "source": [
    "print(ori_data.n_gal)\n",
    "ori_galaxies = ori_data.sum_table(save=True)\n",
    "ori_galaxies.write(os.path.join(ori_data.dir, '{}_galaxies.fits'.format(ori_data.label)))"
   ]
  },
  {
   "cell_type": "code",
   "execution_count": 34,
   "metadata": {},
   "outputs": [
    {
     "data": {
      "text/plain": [
       "(300, 300)"
      ]
     },
     "execution_count": 34,
     "metadata": {},
     "output_type": "execute_result"
    }
   ],
   "source": [
    "list(ori_data.data['map_star_age_insitu_xy'])[0].shape"
   ]
  },
  {
   "cell_type": "markdown",
   "metadata": {},
   "source": [
    "### Batch reduction of all galaxies in `xy` projection"
   ]
  },
  {
   "cell_type": "code",
   "execution_count": 4,
   "metadata": {},
   "outputs": [],
   "source": [
    "def reduce(idx, hdf5, proj='xy'):\n",
    "    \"\"\"Reduce a single galaxy.\"\"\"\n",
    "    gal = GalaxyMap(hdf5, idx, proj=proj, aper_force=None)\n",
    "    summary = gal.run_all(plot=True, output=True)\n",
    "    \n",
    "    return summary"
   ]
  },
  {
   "cell_type": "code",
   "execution_count": 18,
   "metadata": {},
   "outputs": [],
   "source": [
    "gal = GalaxyMap(ori_data, 187, proj='xy')\n",
    "gal.aper_summary()\n",
    "gal.ell_summary()"
   ]
  },
  {
   "cell_type": "code",
   "execution_count": null,
   "metadata": {},
   "outputs": [
    {
     "name": "stdout",
     "output_type": "stream",
     "text": [
      "# Dealing with galaxy: 187\n",
      "# Dealing with galaxy: 188\n",
      "# Dealing with galaxy: 189\n",
      "# Dealing with galaxy: 190\n",
      "# Dealing with galaxy: 191\n",
      "# Dealing with galaxy: 192\n",
      "# Dealing with galaxy: 193\n",
      "# Dealing with galaxy: 194\n",
      "# Dealing with galaxy: 195\n",
      "# Dealing with galaxy: 196\n",
      "# Dealing with galaxy: 197\n",
      "# Dealing with galaxy: 198\n",
      "# Dealing with galaxy: 199\n",
      "# Dealing with galaxy: 200\n",
      "# Dealing with galaxy: 201\n",
      "# Dealing with galaxy: 202\n",
      "# Dealing with galaxy: 203\n",
      "# Dealing with galaxy: 204\n",
      "# Dealing with galaxy: 205\n",
      "# Dealing with galaxy: 206\n",
      "# Dealing with galaxy: 207\n"
     ]
    }
   ],
   "source": [
    "xy_sum = []\n",
    "\n",
    "#for idx in range(ori_data.n_gal):\n",
    "for idx in np.arange(187, ori_data.n_gal, 1):\n",
    "    print(\"# Dealing with galaxy: {}\".format(idx))\n",
    "    xy_sum.append(reduce(idx, ori_data))"
   ]
  },
  {
   "cell_type": "code",
   "execution_count": null,
   "metadata": {},
   "outputs": [],
   "source": []
  }
 ],
 "metadata": {
  "kernelspec": {
   "display_name": "Python 3",
   "language": "python",
   "name": "python3"
  },
  "language_info": {
   "codemirror_mode": {
    "name": "ipython",
    "version": 3
   },
   "file_extension": ".py",
   "mimetype": "text/x-python",
   "name": "python",
   "nbconvert_exporter": "python",
   "pygments_lexer": "ipython3",
   "version": "3.7.4"
  }
 },
 "nbformat": 4,
 "nbformat_minor": 2
}
