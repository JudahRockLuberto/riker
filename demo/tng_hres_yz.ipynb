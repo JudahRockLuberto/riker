{
 "cells": [
  {
   "cell_type": "code",
   "execution_count": 7,
   "metadata": {},
   "outputs": [
    {
     "name": "stdout",
     "output_type": "stream",
     "text": [
      "The autoreload extension is already loaded. To reload it, use:\n",
      "  %reload_ext autoreload\n"
     ]
    }
   ],
   "source": [
    "%load_ext autoreload\n",
    "%reload_ext autoreload\n",
    "%autoreload 2\n",
    "%matplotlib inline\n",
    "\n",
    "import os\n",
    "import warnings\n",
    "\n",
    "import numpy as np\n",
    "\n",
    "from tqdm import tnrange, tqdm_notebook\n",
    "import multiprocessing as mp\n",
    "\n",
    "import matplotlib.pyplot as plt\n",
    "from matplotlib import rcParams\n",
    "\n",
    "from astropy.utils.console import ProgressBar\n",
    "\n",
    "from riker.galaxy import GalaxyMap\n",
    "from riker.data import BeneMassAgeZMaps\n",
    "\n",
    "\n",
    "warnings.filterwarnings(\"ignore\")\n",
    "\n",
    "plt.rc('text', usetex=True)\n",
    "rcParams.update({'axes.linewidth': 1.5})\n",
    "rcParams.update({'xtick.direction': 'in'})\n",
    "rcParams.update({'ytick.direction': 'in'})\n",
    "rcParams.update({'xtick.minor.visible': 'True'})\n",
    "rcParams.update({'ytick.minor.visible': 'True'})\n",
    "rcParams.update({'xtick.major.pad': '7.0'})\n",
    "rcParams.update({'xtick.major.size': '8.0'})\n",
    "rcParams.update({'xtick.major.width': '1.5'})\n",
    "rcParams.update({'xtick.minor.pad': '7.0'})\n",
    "rcParams.update({'xtick.minor.size': '4.0'})\n",
    "rcParams.update({'xtick.minor.width': '1.5'})\n",
    "rcParams.update({'ytick.major.pad': '7.0'})\n",
    "rcParams.update({'ytick.major.size': '8.0'})\n",
    "rcParams.update({'ytick.major.width': '1.5'})\n",
    "rcParams.update({'ytick.minor.pad': '7.0'})\n",
    "rcParams.update({'ytick.minor.size': '4.0'})\n",
    "rcParams.update({'ytick.minor.width': '1.5'})\n",
    "rcParams.update({'axes.titlepad': '10.0'})\n",
    "rcParams.update({'font.size': 25})"
   ]
  },
  {
   "cell_type": "markdown",
   "metadata": {},
   "source": [
    "## Prepare the TNG100 z=0.4 high-resolution HDF5 data"
   ]
  },
  {
   "cell_type": "code",
   "execution_count": 2,
   "metadata": {},
   "outputs": [],
   "source": [
    "# Input HDF5 from simulation\n",
    "tng_dir = '/Users/song/data/massive/simulation/riker/tng'\n",
    "\n",
    "# HDF5 files\n",
    "tng_file = os.path.join(tng_dir, 'galaxies_tng100_072_agez_highres.hdf5')\n",
    "\n",
    "tng_label = 'tng100_z0.4_hres'\n",
    "\n",
    "tng_data = BeneMassAgeZMaps(tng_file, label=tng_label)"
   ]
  },
  {
   "cell_type": "markdown",
   "metadata": {},
   "source": [
    "### Batch reduction of all galaxies in `yz` projection"
   ]
  },
  {
   "cell_type": "code",
   "execution_count": 3,
   "metadata": {},
   "outputs": [],
   "source": [
    "def reduce(idx, hdf5, proj='yz'):\n",
    "    \"\"\"Reduce a single galaxy.\"\"\"\n",
    "    gal = GalaxyMap(hdf5, idx, proj=proj, aper_force=None)\n",
    "    summary = gal.run_all(plot=True, output=True)\n",
    "    \n",
    "    return summary"
   ]
  },
  {
   "cell_type": "code",
   "execution_count": 5,
   "metadata": {},
   "outputs": [],
   "source": [
    "gal = GalaxyMap(tng_data, 289, proj='yz')\n",
    "gal.aper_summary()\n",
    "gal.ell_summary()"
   ]
  },
  {
   "cell_type": "code",
   "execution_count": null,
   "metadata": {},
   "outputs": [],
   "source": []
  },
  {
   "cell_type": "code",
   "execution_count": 8,
   "metadata": {},
   "outputs": [
    {
     "name": "stdout",
     "output_type": "stream",
     "text": [
      "# Dealing with galayz: 289\n",
      "# Dealing with galayz: 290\n",
      "# Dealing with galayz: 291\n",
      "# Dealing with galayz: 292\n",
      "# Dealing with galayz: 293\n",
      "# Dealing with galayz: 294\n",
      "# Dealing with galayz: 295\n"
     ]
    }
   ],
   "source": [
    "yz_sum = []\n",
    "\n",
    "#for idx in range(tng_data.n_gal):\n",
    "for idx in np.arange(289, tng_data.n_gal, 1):\n",
    "    print(\"# Dealing with galayz: {}\".format(idx))\n",
    "    yz_sum.append(reduce(idx, tng_data))"
   ]
  },
  {
   "cell_type": "code",
   "execution_count": null,
   "metadata": {},
   "outputs": [],
   "source": []
  }
 ],
 "metadata": {
  "kernelspec": {
   "display_name": "Python 3",
   "language": "python",
   "name": "python3"
  },
  "language_info": {
   "codemirror_mode": {
    "name": "ipython",
    "version": 3
   },
   "file_extension": ".py",
   "mimetype": "text/x-python",
   "name": "python",
   "nbconvert_exporter": "python",
   "pygments_lexer": "ipython3",
   "version": "3.7.4"
  }
 },
 "nbformat": 4,
 "nbformat_minor": 2
}
